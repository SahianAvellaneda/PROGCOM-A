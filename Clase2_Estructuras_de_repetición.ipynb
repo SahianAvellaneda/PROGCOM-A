{
  "nbformat": 4,
  "nbformat_minor": 0,
  "metadata": {
    "colab": {
      "provenance": [],
      "authorship_tag": "ABX9TyP7zQJVIc1/hJcA9tYxi5hB",
      "include_colab_link": true
    },
    "kernelspec": {
      "name": "python3",
      "display_name": "Python 3"
    },
    "language_info": {
      "name": "python"
    }
  },
  "cells": [
    {
      "cell_type": "markdown",
      "metadata": {
        "id": "view-in-github",
        "colab_type": "text"
      },
      "source": [
        "<a href=\"https://colab.research.google.com/github/SahianAvellaneda/PROGCOM-A/blob/main/Clase2_Estructuras_de_repetici%C3%B3n.ipynb\" target=\"_parent\"><img src=\"https://colab.research.google.com/assets/colab-badge.svg\" alt=\"Open In Colab\"/></a>"
      ]
    },
    {
      "cell_type": "markdown",
      "source": [
        "#Estructura de repetición\n",
        "Es una sentencia repetitiva que permite una intruccion un numero de veces o cuando la condicion sea verdadera.\n",
        "1. Estructura de repeticion para\n",
        "* continue\n",
        "* break\n",
        "* Else\n",
        "2. Estructura de repeticion mientras\n",
        "\n"
      ],
      "metadata": {
        "id": "oHe4MphX4B6E"
      }
    },
    {
      "cell_type": "markdown",
      "source": [
        "# Estructura de repeticion para (for)\n",
        "1. for ( variable) in ranje ( condicion inicial, condicion final, paso):\n",
        "proceso a repetir\n",
        "      .se va a detener en condicion fina-1\n",
        "2. for (variable) in dato: dato puede ser una lista un diccionario, puede ser un string. la variable adopta el valor del dato.\n"
      ],
      "metadata": {
        "id": "n60x-3VM4uWN"
      }
    },
    {
      "cell_type": "code",
      "source": [
        "# se indica por valor que esta entre los corchetes, lo almacene en la variable i y lo muestre en consola.\n",
        "for i in [2,4,5]:\n",
        "  print(i)"
      ],
      "metadata": {
        "colab": {
          "base_uri": "https://localhost:8080/"
        },
        "id": "1MJRv5j65nMf",
        "outputId": "8148e5c5-58f1-41e4-d768-30ddc074be27"
      },
      "execution_count": null,
      "outputs": [
        {
          "output_type": "stream",
          "name": "stdout",
          "text": [
            "2\n",
            "4\n",
            "5\n"
          ]
        }
      ]
    },
    {
      "cell_type": "code",
      "source": [
        "# Se indica que or cada valor que tome la variable i, escriba la palabra \"Sahian\"\n",
        "for i in [2,4,5]:\n",
        "  print(\"Sahian \")"
      ],
      "metadata": {
        "colab": {
          "base_uri": "https://localhost:8080/"
        },
        "id": "km1b7_486pUa",
        "outputId": "af3c2e9f-b3e5-4cb1-fa58-83dafdb83411"
      },
      "execution_count": null,
      "outputs": [
        {
          "output_type": "stream",
          "name": "stdout",
          "text": [
            "Sahian \n",
            "Sahian \n",
            "Sahian \n"
          ]
        }
      ]
    },
    {
      "cell_type": "code",
      "source": [
        "for meses in[ \"Enero\", \"Febrero\", \"Marzo\",\"Abril\",\"Mayo\",\"Junio\" ]:\n",
        "  print(meses)"
      ],
      "metadata": {
        "colab": {
          "base_uri": "https://localhost:8080/"
        },
        "id": "OZTzbxv57bJT",
        "outputId": "389df5d4-f809-4a83-e09e-bc2b22a08a5e"
      },
      "execution_count": null,
      "outputs": [
        {
          "output_type": "stream",
          "name": "stdout",
          "text": [
            "Enero\n",
            "Febrero\n",
            "Marzo\n",
            "Abril\n",
            "Mayo\n",
            "Junio\n"
          ]
        }
      ]
    },
    {
      "cell_type": "code",
      "source": [
        "for i in[ \"Enero\", \"Febrero\", \"Marzo\",3,4,7]:\n",
        "  print(i)"
      ],
      "metadata": {
        "colab": {
          "base_uri": "https://localhost:8080/"
        },
        "id": "bb_g_LuJ8NHX",
        "outputId": "8226e96d-a0f4-4ef7-a5d3-a3487ed249ef"
      },
      "execution_count": null,
      "outputs": [
        {
          "output_type": "stream",
          "name": "stdout",
          "text": [
            "Enero\n",
            "Febrero\n",
            "Marzo\n",
            "3\n",
            "4\n",
            "7\n"
          ]
        }
      ]
    },
    {
      "cell_type": "code",
      "source": [
        "for i in \"triciclo\":\n",
        "  print(i)"
      ],
      "metadata": {
        "colab": {
          "base_uri": "https://localhost:8080/"
        },
        "id": "FOdENOPb8jWE",
        "outputId": "07353e97-33d2-4983-db58-ca059fad69a9"
      },
      "execution_count": null,
      "outputs": [
        {
          "output_type": "stream",
          "name": "stdout",
          "text": [
            "t\n",
            "r\n",
            "i\n",
            "c\n",
            "i\n",
            "c\n",
            "l\n",
            "o\n"
          ]
        }
      ]
    },
    {
      "cell_type": "code",
      "source": [
        "for i in \"triciclo\":\n",
        "  if i==\"i\":\n",
        "   print(\"*\")\n",
        "  else:print(i)"
      ],
      "metadata": {
        "colab": {
          "base_uri": "https://localhost:8080/"
        },
        "id": "O39WfHO-9Qdh",
        "outputId": "9abeb68b-726b-48ee-ade3-71a83f043b5c"
      },
      "execution_count": null,
      "outputs": [
        {
          "output_type": "stream",
          "name": "stdout",
          "text": [
            "t\n",
            "r\n",
            "*\n",
            "c\n",
            "*\n",
            "c\n",
            "l\n",
            "o\n"
          ]
        }
      ]
    },
    {
      "cell_type": "code",
      "source": [
        "for i in \"casa\":\n",
        " print(i)\n"
      ],
      "metadata": {
        "colab": {
          "base_uri": "https://localhost:8080/"
        },
        "id": "VIKmIU_r9reB",
        "outputId": "88832901-4aee-4f94-f0c8-7e82b024d82c"
      },
      "execution_count": null,
      "outputs": [
        {
          "output_type": "stream",
          "name": "stdout",
          "text": [
            "c\n",
            "a\n",
            "s\n",
            "a\n"
          ]
        }
      ]
    },
    {
      "cell_type": "code",
      "source": [
        "c=0\n",
        "for i in \"esternocleidomastoideo\":\n",
        "  c=c+1\n",
        "c"
      ],
      "metadata": {
        "colab": {
          "base_uri": "https://localhost:8080/"
        },
        "id": "6DV7Q1U1-KEB",
        "outputId": "4d9b2a47-b2c7-4b30-e918-e68124df02a6"
      },
      "execution_count": null,
      "outputs": [
        {
          "output_type": "execute_result",
          "data": {
            "text/plain": [
              "22"
            ]
          },
          "metadata": {},
          "execution_count": 22
        }
      ]
    },
    {
      "cell_type": "code",
      "source": [
        "#Se usa para saber cuantas veces repito la iteración\n",
        "for i in range(4):\n",
        "  print(i)"
      ],
      "metadata": {
        "colab": {
          "base_uri": "https://localhost:8080/"
        },
        "id": "4WEb_bpx_66-",
        "outputId": "e501a3f7-8410-479c-818a-7912c1bc5e51"
      },
      "execution_count": null,
      "outputs": [
        {
          "output_type": "stream",
          "name": "stdout",
          "text": [
            "0\n",
            "1\n",
            "2\n",
            "3\n"
          ]
        }
      ]
    },
    {
      "cell_type": "code",
      "source": [
        "for i in range(5,10):\n",
        "  print(i)"
      ],
      "metadata": {
        "colab": {
          "base_uri": "https://localhost:8080/"
        },
        "id": "G8l-PGktAUL7",
        "outputId": "9cb895ca-4fbe-4e5d-ad25-b7377391da20"
      },
      "execution_count": null,
      "outputs": [
        {
          "output_type": "stream",
          "name": "stdout",
          "text": [
            "5\n",
            "6\n",
            "7\n",
            "8\n",
            "9\n"
          ]
        }
      ]
    },
    {
      "cell_type": "code",
      "source": [
        "for i in range(0,20,2):\n",
        "  print(i)"
      ],
      "metadata": {
        "colab": {
          "base_uri": "https://localhost:8080/"
        },
        "id": "07JhIo2UBpkn",
        "outputId": "f4bb0124-cbef-40ca-e864-7978b134f481"
      },
      "execution_count": null,
      "outputs": [
        {
          "output_type": "stream",
          "name": "stdout",
          "text": [
            "0\n",
            "2\n",
            "4\n",
            "6\n",
            "8\n",
            "10\n",
            "12\n",
            "14\n",
            "16\n",
            "18\n"
          ]
        }
      ]
    },
    {
      "cell_type": "code",
      "source": [
        "n=int(input(\"Tabla que desea ver\"))\n",
        "for i in range(1,11,1):\n",
        "  print(n,\"*\",i,\"=\",n*i)"
      ],
      "metadata": {
        "id": "zEG-KyyHDwm2",
        "outputId": "eecc38bc-561b-43f1-922b-506738538fb8",
        "colab": {
          "base_uri": "https://localhost:8080/"
        }
      },
      "execution_count": null,
      "outputs": [
        {
          "output_type": "stream",
          "name": "stdout",
          "text": [
            "Tabla que desea ver5\n",
            "5 * 1 = 5\n",
            "5 * 2 = 10\n",
            "5 * 3 = 15\n",
            "5 * 4 = 20\n",
            "5 * 5 = 25\n",
            "5 * 6 = 30\n",
            "5 * 7 = 35\n",
            "5 * 8 = 40\n",
            "5 * 9 = 45\n",
            "5 * 10 = 50\n"
          ]
        }
      ]
    },
    {
      "cell_type": "code",
      "source": [
        "n=int(input(\"Tabla que desea ver\"))\n",
        "for i in (1,2,3,4,5,6,7,8,9,10):\n",
        "  print(n,\"*\",i,\"=\",n*i)\n",
        "\n",
        "\n"
      ],
      "metadata": {
        "colab": {
          "base_uri": "https://localhost:8080/"
        },
        "id": "F4pXHIEgB7UH",
        "outputId": "cedafce0-7389-4b84-9082-6af6f3a78a93"
      },
      "execution_count": null,
      "outputs": [
        {
          "output_type": "stream",
          "name": "stdout",
          "text": [
            "Tabla que desea ver7\n",
            "7 * 1 = 7\n",
            "7 * 2 = 14\n",
            "7 * 3 = 21\n",
            "7 * 4 = 28\n",
            "7 * 5 = 35\n",
            "7 * 6 = 42\n",
            "7 * 7 = 49\n",
            "7 * 8 = 56\n",
            "7 * 9 = 63\n",
            "7 * 10 = 70\n"
          ]
        }
      ]
    },
    {
      "cell_type": "code",
      "source": [
        "for i in[\"Omar    \",\"Julia    \",\"Alexandra  \",\"Diego   \"]: print(f\"{i}\\t{len(i)}\")"
      ],
      "metadata": {
        "colab": {
          "base_uri": "https://localhost:8080/"
        },
        "id": "nI8yxBvAFJMi",
        "outputId": "f8ae64a3-eae3-4233-81df-44612c48273a"
      },
      "execution_count": null,
      "outputs": [
        {
          "output_type": "stream",
          "name": "stdout",
          "text": [
            "Omar    \t8\n",
            "Julia    \t9\n",
            "Alexandra  \t11\n",
            "Diego   \t8\n"
          ]
        }
      ]
    },
    {
      "cell_type": "markdown",
      "source": [
        "## Mientras\n",
        "Tipo de bucle que se implementa a partir de la instruccion **while**. Permite repetir un conjunto de instrucciones *mientras* una condicion sea **verdadera**.\n",
        "**OJO** siempre se debe programar por dentro del while, la condicion que alternara la condicion inicial. De lo contrario se creará un bucle infinito.\n"
      ],
      "metadata": {
        "id": "dqW7iWt-GJLq"
      }
    },
    {
      "cell_type": "code",
      "source": [
        "i=1\n",
        "while i<=4:\n",
        "  print(i)\n",
        "  i+=1  #implementar la condicion que cambie la condicion inicial\n",
        "print(\"Fin\")"
      ],
      "metadata": {
        "colab": {
          "base_uri": "https://localhost:8080/"
        },
        "id": "3iK831fbHRmQ",
        "outputId": "31d1e611-e7a9-424b-d1bd-c4f3acffd2ea"
      },
      "execution_count": null,
      "outputs": [
        {
          "output_type": "stream",
          "name": "stdout",
          "text": [
            "1\n",
            "2\n",
            "3\n",
            "4\n",
            "Fin\n"
          ]
        }
      ]
    },
    {
      "cell_type": "code",
      "source": [
        "i=1\n",
        "while i<=20:\n",
        "  print(i)\n",
        "  i+=2  #implementar la condicion que cambie la condicion inicial\n",
        "print(\"Fin\")"
      ],
      "metadata": {
        "colab": {
          "base_uri": "https://localhost:8080/"
        },
        "id": "ZGZVCnSMJBYa",
        "outputId": "e9fccbd7-b9c4-4299-c164-77701f0e6336"
      },
      "execution_count": null,
      "outputs": [
        {
          "output_type": "stream",
          "name": "stdout",
          "text": [
            "1\n",
            "3\n",
            "5\n",
            "7\n",
            "9\n",
            "11\n",
            "13\n",
            "15\n",
            "17\n",
            "19\n",
            "Fin\n"
          ]
        }
      ]
    }
  ]
}