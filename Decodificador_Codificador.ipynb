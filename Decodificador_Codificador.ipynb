{
  "nbformat": 4,
  "nbformat_minor": 0,
  "metadata": {
    "colab": {
      "provenance": [],
      "include_colab_link": true
    },
    "kernelspec": {
      "name": "python3",
      "display_name": "Python 3"
    },
    "language_info": {
      "name": "python"
    }
  },
  "cells": [
    {
      "cell_type": "markdown",
      "metadata": {
        "id": "view-in-github",
        "colab_type": "text"
      },
      "source": [
        "<a href=\"https://colab.research.google.com/github/SahianAvellaneda/PROGCOM-A/blob/main/Decodificador_Codificador.ipynb\" target=\"_parent\"><img src=\"https://colab.research.google.com/assets/colab-badge.svg\" alt=\"Open In Colab\"/></a>"
      ]
    },
    {
      "cell_type": "markdown",
      "source": [
        "#Decodificador"
      ],
      "metadata": {
        "id": "yoh1RmlC8Sf1"
      }
    },
    {
      "cell_type": "code",
      "execution_count": null,
      "metadata": {
        "id": "k7fy_z2e3fpQ",
        "colab": {
          "base_uri": "https://localhost:8080/"
        },
        "outputId": "191584dd-1cb6-479a-84e2-5313cf121595"
      },
      "outputs": [
        {
          "output_type": "stream",
          "name": "stdout",
          "text": [
            "Ingresa una palabra: Nicolás Mora\n",
            "Palabra codificada: Qageñéw Pevo\n"
          ]
        }
      ],
      "source": [
        "palabra = input(\"Ingresa una palabra: \")\n",
        "def codificar_palabra(palabra):\n",
        "    consonantes = \"bcdfghjklmnñpqrstvwxyz\"\n",
        "    vocales = \"aeiou\"\n",
        "    tildes = \"áéíóú\"\n",
        "    mconsonantes = \"BCDFGHJKLMNÑPQRSTVWXYZ\"\n",
        "    mvocales = \"AEIOU\"\n",
        "    mtildes = \"ÁÉÍÓÚ\"\n",
        "    palabra_codificada = []\n",
        "    for letra in palabra:\n",
        "        if letra in consonantes:\n",
        "            index = (consonantes.index(letra) + 3)\n",
        "            palabra_codificada.append(consonantes[index])\n",
        "        elif letra in vocales:\n",
        "            index = (vocales.index(letra) - 2)\n",
        "            palabra_codificada.append(vocales[index])\n",
        "        elif letra in tildes:\n",
        "            index = (tildes.index(letra) + 1)\n",
        "            palabra_codificada.append(tildes[index])\n",
        "        elif letra in mconsonantes:\n",
        "            index = (mconsonantes.index(letra) + 3)\n",
        "            palabra_codificada.append(mconsonantes[index])\n",
        "        elif letra in mvocales:\n",
        "            index = (mvocales.index(letra) - 2)\n",
        "            palabra_codificada.append(mvocales[index])\n",
        "        elif letra in mtildes:\n",
        "            index = (mtildes.index(letra) + 1)\n",
        "            palabra_codificada.append(mtildes[index])\n",
        "        else:\n",
        "            palabra_codificada.append(letra)\n",
        "\n",
        "    return ''.join(palabra_codificada)\n",
        "palabra_codificada = codificar_palabra(palabra)\n",
        "print(\"Palabra codificada:\", palabra_codificada)"
      ]
    },
    {
      "cell_type": "markdown",
      "source": [
        "#Codificador"
      ],
      "metadata": {
        "id": "2ca63EqK8QDO"
      }
    },
    {
      "cell_type": "code",
      "source": [
        "palabra = input(\"Ingresa una palabra: \")\n",
        "def codificar_palabra(palabra):\n",
        "    consonantes = \"bcdfghjklmnñpqrstvwxyz\"\n",
        "    vocales = \"aeiou\"\n",
        "    tildes = \"áéíóú\"\n",
        "    mconsonantes = \"BCDFGHJKLMNÑPQRSTVWXYZ\"\n",
        "    mvocales = \"AEIOU\"\n",
        "    mtildes = \"ÁÉÍÓÚ\"\n",
        "    palabra_codificada = []\n",
        "    for letra in palabra:\n",
        "        if letra in consonantes:\n",
        "            index = (consonantes.index(letra) - 3)\n",
        "            palabra_codificada.append(consonantes[index])\n",
        "        elif letra in vocales:\n",
        "            index = (vocales.index(letra) + 2)\n",
        "            palabra_codificada.append(vocales[index])\n",
        "        elif letra in tildes:\n",
        "            index = (tildes.index(letra) - 1)\n",
        "            palabra_codificada.append(tildes[index])\n",
        "        elif letra in mconsonantes:\n",
        "            index = (mconsonantes.index(letra) - 3)\n",
        "            palabra_codificada.append(mconsonantes[index])\n",
        "        elif letra in mvocales:\n",
        "            index = (mvocales.index(letra) + 2)\n",
        "            palabra_codificada.append(mvocales[index])\n",
        "        elif letra in mtildes:\n",
        "            index = (mtildes.index(letra) - 1)\n",
        "            palabra_codificada.append(mtildes[index])\n",
        "        else:\n",
        "            palabra_codificada.append(letra)\n",
        "\n",
        "    return ''.join(palabra_codificada)\n",
        "palabra_codificada = codificar_palabra(palabra)\n",
        "print(\"Palabra codificada:\", palabra_codificada)"
      ],
      "metadata": {
        "colab": {
          "base_uri": "https://localhost:8080/"
        },
        "id": "KGe_fLpo70j2",
        "outputId": "2a0ab199-b576-420f-9c05-de3782bac2ab"
      },
      "execution_count": null,
      "outputs": [
        {
          "output_type": "stream",
          "name": "stdout",
          "text": [
            "Ingresa una palabra: Qageñéw\n",
            "Palabra codificada: Nicolás\n"
          ]
        }
      ]
    }
  ]
}