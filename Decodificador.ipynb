{
  "nbformat": 4,
  "nbformat_minor": 0,
  "metadata": {
    "colab": {
      "provenance": [],
      "include_colab_link": true
    },
    "kernelspec": {
      "name": "python3",
      "display_name": "Python 3"
    },
    "language_info": {
      "name": "python"
    }
  },
  "cells": [
    {
      "cell_type": "markdown",
      "metadata": {
        "id": "view-in-github",
        "colab_type": "text"
      },
      "source": [
        "<a href=\"https://colab.research.google.com/github/SahianAvellaneda/PROGCOM-A/blob/main/Decodificador.ipynb\" target=\"_parent\"><img src=\"https://colab.research.google.com/assets/colab-badge.svg\" alt=\"Open In Colab\"/></a>"
      ]
    },
    {
      "cell_type": "code",
      "execution_count": 7,
      "metadata": {
        "id": "k7fy_z2e3fpQ",
        "colab": {
          "base_uri": "https://localhost:8080/"
        },
        "outputId": "f700d6b7-4e38-4df7-b7c5-5c3036e0b00b"
      },
      "outputs": [
        {
          "output_type": "stream",
          "name": "stdout",
          "text": [
            "Ingresa una palabra: Nicolás\n",
            "Palabra codificada: Qageñéw\n"
          ]
        }
      ],
      "source": [
        "palabra = input(\"Ingresa una palabra: \")\n",
        "def codificar_palabra(palabra):\n",
        "    consonantes = \"bcdfghjklmnñpqrstvwxyz\"\n",
        "    vocales = \"aeiou\"\n",
        "    tildes = \"áéíóú\"\n",
        "    mconsonantes = \"BCDFGHJKLMNÑPQRSTVWXYZ\"\n",
        "    mvocales = \"AEIOU\"\n",
        "    mtildes = \"ÁÉÍÓÚ\"\n",
        "    palabra_codificada = []\n",
        "    for letra in palabra:\n",
        "        if letra in consonantes:\n",
        "            index = (consonantes.index(letra) + 3)\n",
        "            palabra_codificada.append(consonantes[index])\n",
        "        elif letra in vocales:\n",
        "            index = (vocales.index(letra) - 2)\n",
        "            palabra_codificada.append(vocales[index])\n",
        "        elif letra in tildes:\n",
        "            index = (tildes.index(letra) + 1)\n",
        "            palabra_codificada.append(tildes[index])\n",
        "        elif letra in mconsonantes:\n",
        "            index = (mconsonantes.index(letra) + 3)\n",
        "            palabra_codificada.append(mconsonantes[index])\n",
        "        elif letra in mvocales:\n",
        "            index = (mvocales.index(letra) - 2)\n",
        "            palabra_codificada.append(mvocales[index])\n",
        "        elif letra in mtildes:\n",
        "            index = (mtildes.index(letra) + 1)\n",
        "            palabra_codificada.append(mtildes[index])\n",
        "        else:\n",
        "            palabra_codificada.append(letra)\n",
        "\n",
        "    return ''.join(palabra_codificada)\n",
        "palabra_codificada = codificar_palabra(palabra)\n",
        "print(\"Palabra codificada:\", palabra_codificada)"
      ]
    }
  ]
}