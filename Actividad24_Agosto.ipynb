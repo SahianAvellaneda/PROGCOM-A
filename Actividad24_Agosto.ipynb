{
  "nbformat": 4,
  "nbformat_minor": 0,
  "metadata": {
    "colab": {
      "provenance": [],
      "authorship_tag": "ABX9TyOwUf9RmPxTTtLOsJJn5WCG",
      "include_colab_link": true
    },
    "kernelspec": {
      "name": "python3",
      "display_name": "Python 3"
    },
    "language_info": {
      "name": "python"
    }
  },
  "cells": [
    {
      "cell_type": "markdown",
      "metadata": {
        "id": "view-in-github",
        "colab_type": "text"
      },
      "source": [
        "<a href=\"https://colab.research.google.com/github/SahianAvellaneda/PROGCOM-A/blob/main/Actividad24_Agosto.ipynb\" target=\"_parent\"><img src=\"https://colab.research.google.com/assets/colab-badge.svg\" alt=\"Open In Colab\"/></a>"
      ]
    },
    {
      "cell_type": "markdown",
      "source": [
        "1. Crear el programa que solicite el nombre y el código de un estudiante y que luego lo imprima,\n",
        "junto con el logo de la institución educativa perteneciente.\n",
        "Ejemplo:\n",
        "Digite su nombre: Sonia Smith\n",
        "Digite su código: U000582515\n",
        "El programa imprimirá:\n",
        "UNIVERSIDAD AUTÓNOMA DE BUCARAMANGA\n",
        "Nombre del estudiante: Sonia Smith\n",
        "Código: U000582515"
      ],
      "metadata": {
        "id": "2WqSKUBCwjci"
      }
    },
    {
      "cell_type": "code",
      "execution_count": null,
      "metadata": {
        "colab": {
          "base_uri": "https://localhost:8080/"
        },
        "id": "R5oLnGmKtKx_",
        "outputId": "7f04ff1e-01a2-4c27-a504-3d2883f6a529"
      },
      "outputs": [
        {
          "name": "stdout",
          "output_type": "stream",
          "text": [
            "Ingrese su nombre s\n",
            "CodigoU00171180\n"
          ]
        }
      ],
      "source": [
        "a= input (\"Ingrese su nombre \")\n",
        "a\n",
        "b= input (\"Codigo\")\n",
        "b\n",
        "b=b\n",
        "if b==(\"U001\"):\n",
        " print (\"Usted pertenece a la Unab\")\n",
        "\n"
      ]
    },
    {
      "cell_type": "markdown",
      "source": [
        "Diseñe un algoritmo para calcular el volumen de un cono."
      ],
      "metadata": {
        "id": "fYx0W45W0WvM"
      }
    },
    {
      "cell_type": "code",
      "source": [
        "v= float\n",
        "a=int(input(\"ingresar altura: \"))\n",
        "b=int(input(\"ingresar el radio: \"))\n",
        "v=(3.14*a*(b**2))/3\n",
        "print (\"El volumen es: \", v)\n",
        "\n"
      ],
      "metadata": {
        "id": "O-DVXiX30aax"
      },
      "execution_count": null,
      "outputs": []
    },
    {
      "cell_type": "markdown",
      "source": [
        "4. Diseñe un algoritmo que lea temperatura en grados centígrados y la convierta en grados Fahrenheit y a grados Kelvin."
      ],
      "metadata": {
        "id": "rQLWkLxz7L7-"
      }
    },
    {
      "cell_type": "code",
      "source": [
        "c=float(input(\"Ingresar la temperatura en grados centigrados \"))\n",
        "f=float\n",
        "f=((9/5*c) +32)\n",
        "print( \"La temperatura en Fahrenheit es: \", f)\n",
        "k=float\n",
        "k=(273.15+c)\n",
        "print( \"La temperatura en Kelvin es: \", k)\n"
      ],
      "metadata": {
        "colab": {
          "base_uri": "https://localhost:8080/"
        },
        "id": "2Q80X19b71_k",
        "outputId": "9d8a7216-76c6-4119-ccec-16bfbbfc512f"
      },
      "execution_count": null,
      "outputs": [
        {
          "output_type": "stream",
          "name": "stdout",
          "text": [
            "Ingresar la temperatura en grados centigrados 20\n",
            "La temperatura en Fahrenheit es:  68.0\n",
            "La temperatura en Kelvin es:  293.15\n"
          ]
        }
      ]
    },
    {
      "cell_type": "markdown",
      "source": [
        "7. Diseñe un algoritmo que lea temperatura en grados centígrados y la convierta en grados Fahrenheit y a grados Kelvin, siempre y cuando la temperatura dada en grados sea positiva."
      ],
      "metadata": {
        "id": "gRZhznoc-i1s"
      }
    },
    {
      "cell_type": "code",
      "source": [
        "\n",
        "c=float(input(\"Ingresar la temperatura en grados centigrados \"))\n",
        "if abs(c)==c:\n",
        "  f=float\n",
        "  f=((9/5*c) +32)\n",
        "  print( \"La temperatura en Fahrenheit es: \", f)\n",
        "  k=float\n",
        "  k=(273.15+c)\n",
        "  print( \"La temperatura en Kelvin es: \", k)\n",
        "  print(\"La temperatura en Fahrenheit es: \", f, \"La temperatura en Kelvin es: \", k)\n",
        "else:\n",
        "     print(\"No es posible realizar los calculos solicitados\")"
      ],
      "metadata": {
        "colab": {
          "base_uri": "https://localhost:8080/"
        },
        "id": "GKVyoUOq-0RM",
        "outputId": "223eccec-0ac7-4e49-fd11-333f14a942ae"
      },
      "execution_count": null,
      "outputs": [
        {
          "output_type": "stream",
          "name": "stdout",
          "text": [
            "Ingresar la temperatura en grados centigrados -10\n",
            "No es posible realizar los calculos solicitados\n"
          ]
        }
      ]
    },
    {
      "cell_type": "markdown",
      "source": [
        "8. Dado dos enteros: horas(h) y minutos (m), representativos del tiempo en horas y minutos dado\n",
        "por un reloj de 24 horas, convierta el tiempo dado por el reloj de 24 horas a un reloj que\n",
        "obtenga el tiempo cada 12 horas."
      ],
      "metadata": {
        "id": "TAAswje8A5bi"
      }
    },
    {
      "cell_type": "code",
      "source": [
        "a=int (input(\"ingresar hora: \"))\n",
        "if a<24\n",
        "while a<24\n",
        "b=int(input(\"ingresar minutos: \"))\n"
      ],
      "metadata": {
        "id": "bCDDMFFzBQjy"
      },
      "execution_count": null,
      "outputs": []
    }
  ]
}