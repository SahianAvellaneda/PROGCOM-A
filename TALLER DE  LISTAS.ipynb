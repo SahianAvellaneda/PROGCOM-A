{
  "cells": [
    {
      "cell_type": "markdown",
      "metadata": {
        "id": "SHcbrJhhNGOk"
      },
      "source": [
        "#SECUENCIA DE DATOS\n"
      ]
    },
    {
      "cell_type": "markdown",
      "metadata": {
        "id": "325LVBzsM0x7"
      },
      "source": [
        "##LISTAS\n",
        "También conocidas como vectores o arrays.\n",
        "Es una variable que, en lugar de contener un valor, contiene una secuencia ordenada de estos, a los que se puede acceder por su posición o por su índice.\n",
        "Se declaran indicando sus elementos, separados por comas, entre corchetes []"
      ]
    },
    {
      "cell_type": "code",
      "execution_count": 92,
      "metadata": {
        "colab": {
          "base_uri": "https://localhost:8080/"
        },
        "id": "23GjaB68MkIG",
        "outputId": "a5ac00c0-f797-40e2-f719-1d12c14a2b83"
      },
      "outputs": [
        {
          "data": {
            "text/plain": [
              "['primero', 'segundo', 'tercero', 'cuarto']"
            ]
          },
          "execution_count": 92,
          "metadata": {},
          "output_type": "execute_result"
        }
      ],
      "source": [
        "lista=[\"primero\",\"segundo\", \"tercero\", \"cuarto\"]\n",
        "lista"
      ]
    },
    {
      "cell_type": "markdown",
      "metadata": {
        "id": "yPn3XFg4PWpt"
      },
      "source": [
        "###Accediendo a los elementos de la lista"
      ]
    },
    {
      "cell_type": "code",
      "execution_count": 93,
      "metadata": {
        "colab": {
          "base_uri": "https://localhost:8080/",
          "height": 36
        },
        "id": "-63XOgdXOzdR",
        "outputId": "7f06a027-7a82-4010-ecd1-baba488bea01"
      },
      "outputs": [
        {
          "data": {
            "text/plain": [
              "'primero'"
            ]
          },
          "execution_count": 93,
          "metadata": {},
          "output_type": "execute_result"
        }
      ],
      "source": [
        "#Accediendo a la lista por posición\n",
        "lista[0]"
      ]
    },
    {
      "cell_type": "code",
      "execution_count": 94,
      "metadata": {
        "colab": {
          "base_uri": "https://localhost:8080/"
        },
        "id": "cadWYF2xSW8L",
        "outputId": "1f0eb661-290a-467c-e251-f111393db281"
      },
      "outputs": [
        {
          "data": {
            "text/plain": [
              "['primero', 'segundo', 'tercero', 'cuarto']"
            ]
          },
          "execution_count": 94,
          "metadata": {},
          "output_type": "execute_result"
        }
      ],
      "source": [
        "#Accediendo a todos los elementos de la lista empleando el slicing\n",
        "lista[:]"
      ]
    },
    {
      "cell_type": "code",
      "execution_count": 95,
      "metadata": {
        "colab": {
          "base_uri": "https://localhost:8080/"
        },
        "id": "XsDQpQKISYiL",
        "outputId": "1a144327-f381-43b2-9303-5ab82cd8aa22"
      },
      "outputs": [
        {
          "data": {
            "text/plain": [
              "['primero', 'segundo']"
            ]
          },
          "execution_count": 95,
          "metadata": {},
          "output_type": "execute_result"
        }
      ],
      "source": [
        "#Accediendo a los dos primeros elementos de la lista\n",
        "lista[0:2]"
      ]
    },
    {
      "cell_type": "code",
      "execution_count": 96,
      "metadata": {
        "id": "miawsux8S7BD"
      },
      "outputs": [
        {
          "data": {
            "text/plain": [
              "['primero', 'segundo']"
            ]
          },
          "execution_count": 96,
          "metadata": {},
          "output_type": "execute_result"
        }
      ],
      "source": [
        "#Existe alguna otra manera de imprimir los dos primeros elementos de la lista? Coloque la línea de código y verifíque su código a continuación.\n",
        "lista[:2]"
      ]
    },
    {
      "cell_type": "code",
      "execution_count": 97,
      "metadata": {
        "colab": {
          "base_uri": "https://localhost:8080/"
        },
        "id": "RNcXanPzTB7u",
        "outputId": "bdc54a73-bf98-4ddf-aec7-65e04e9e9a4b"
      },
      "outputs": [
        {
          "data": {
            "text/plain": [
              "['tercero', 'cuarto']"
            ]
          },
          "execution_count": 97,
          "metadata": {},
          "output_type": "execute_result"
        }
      ],
      "source": [
        "#Accediendo a los dos últimos elementos de la lista\n",
        "lista[2:4]"
      ]
    },
    {
      "cell_type": "code",
      "execution_count": 98,
      "metadata": {
        "id": "_0cx4i7CVF_6"
      },
      "outputs": [
        {
          "data": {
            "text/plain": [
              "'segundo'"
            ]
          },
          "execution_count": 98,
          "metadata": {},
          "output_type": "execute_result"
        }
      ],
      "source": [
        "#Qué pasará cuando se usa un índice negativo? Ejemplo: lista[-4], lista[-3]\n",
        "lista[-3]"
      ]
    },
    {
      "cell_type": "code",
      "execution_count": 99,
      "metadata": {
        "id": "Eg2ZIr5DTnFJ"
      },
      "outputs": [
        {
          "data": {
            "text/plain": [
              "['tercero', 'cuarto']"
            ]
          },
          "execution_count": 99,
          "metadata": {},
          "output_type": "execute_result"
        }
      ],
      "source": [
        "#Existe otra forma para acceder a los dos últimos elementos de la lista?. Coloque la línea de código que hace esto.\n",
        "lista[-2:]"
      ]
    },
    {
      "cell_type": "code",
      "execution_count": 100,
      "metadata": {
        "id": "AFYUJpJCQG9p"
      },
      "outputs": [
        {
          "data": {
            "text/plain": [
              "3"
            ]
          },
          "execution_count": 100,
          "metadata": {},
          "output_type": "execute_result"
        }
      ],
      "source": [
        "#Cómo podría saberse la posición de la lista que ocupa un elemento?\n",
        "#Escriba el código que permita ingresar un elemento de la lista, e imprima la posición del elemento de la lista\n",
        "lista.index(\"cuarto\")\n",
        "\n",
        "\n",
        "\n"
      ]
    },
    {
      "cell_type": "markdown",
      "metadata": {
        "id": "OPiv0fe4R8__"
      },
      "source": [
        "###Operaciones con las listas"
      ]
    },
    {
      "cell_type": "code",
      "execution_count": 101,
      "metadata": {
        "id": "sgr461D-SAqe"
      },
      "outputs": [],
      "source": [
        "#Crear una lista vacía\n",
        "ejemplo=[]"
      ]
    },
    {
      "cell_type": "code",
      "execution_count": 136,
      "metadata": {
        "id": "NnNEsFRbaUul"
      },
      "outputs": [
        {
          "data": {
            "text/plain": [
              "[['Nombre', 'Peso', 'altura', 'IMC'], ['sahian', 65.0, 1.7, 22]]"
            ]
          },
          "execution_count": 136,
          "metadata": {},
          "output_type": "execute_result"
        }
      ],
      "source": [
        "#Cómo se podría crear una matriz? Ingrese el código que permita generar una matriz 3x2, siendo la primera fila \"Nombre\", \"Peso\", \"Altura\"\n",
        "#y diligencie la segunda fila con números\n",
        "#Llame a esa matriz calculo_IMC\n",
        "#Debe imprimir\n",
        "#Nombre  Peso[kg] Altura[m]\n",
        "#\"Sofía\"    57      1.65\n",
        "nombre=input(\"Ingrese el Nombre\")\n",
        "peso=float(input(\"Ingrese el Peso\"))\n",
        "altura=float(input(\"Ingrese la altura\"))\n",
        "imc=int(peso/(altura**2))\n",
        "\n",
        "calcula_imc=[[\"Nombre\", \"Peso\", \"altura\", \"IMC\"],\n",
        "             [nombre,   peso,  altura, imc]]\n",
        "\n",
        "calcula_imc"
      ]
    },
    {
      "cell_type": "code",
      "execution_count": 137,
      "metadata": {
        "id": "UZ_ueaXJdJsT"
      },
      "outputs": [
        {
          "name": "stdout",
          "output_type": "stream",
          "text": [
            "[['Nombre', 'Peso', 'Altura'], ['sahian', 65.0, 1.7, 22.49134948096886]]\n"
          ]
        }
      ],
      "source": [
        "#Genere una cuarta columna para la matriz IMC, que tenga como nombre IMC y calcule el índice de masa corporal. Esto es:\n",
        "#Nombre  Peso[kg] Altura[m]  IMC\n",
        "#\"Sofía\"    57      1.65     (agrege aquí el resultado del cálculo)\n",
        "\n",
        "imc=float(peso/(altura**2))\n",
        "\n",
        "calculo_IMC=[[\"Nombre\", \"Peso\", \"Altura\"],\n",
        "            [nombre,    peso,    altura, imc]]\n",
        "\n",
        "print(calculo_IMC)"
      ]
    },
    {
      "cell_type": "code",
      "execution_count": 138,
      "metadata": {
        "id": "cgQqg0YJffSH"
      },
      "outputs": [
        {
          "data": {
            "text/plain": [
              "[['Nombre', 'Peso', 'altura', 'IMC'], ['sahian', 65.0, 1.7, 22, 'Saludable']]"
            ]
          },
          "execution_count": 138,
          "metadata": {},
          "output_type": "execute_result"
        }
      ],
      "source": [
        "#Genere una quinta columna en la matriz calculo_IMC que emita una descripción obtenida del IMC. Esto es:\n",
        "#Nombre  Peso[kg] Altura[m]  IMC        Descripción\n",
        "#\"Sofía\"    57      1.65     (calculo)  (Dependiendo del IMC debe registrar peso normal, sobrepeso, obesidad tipo I, obesidad tipo II... etc.\n",
        "\n",
        "if imc > 40:\n",
        "    res_imc=\"Obesidad III\"\n",
        "elif imc < 40 and imc >= 35:\n",
        "    res_imc=\"Obesidad II\"\n",
        "elif imc < 35 and imc >= 30:\n",
        "    res_imc=\"Obesidad I\"\n",
        "elif imc < 30 and imc >= 25:\n",
        "    res_imc=\"Sobrepeso\"\n",
        "elif imc < 25 and imc >= 18.5:\n",
        "    res_imc=\"Saludable\"\n",
        "elif imc < 18.5:\n",
        "    res_imc=\"por debajo\"\n",
        "\n",
        "if res_imc not in calcula_imc[1]:\n",
        "    calcula_imc[1].append(res_imc)\n",
        "\n",
        "calcula_imc"
      ]
    },
    {
      "cell_type": "code",
      "execution_count": 139,
      "metadata": {
        "colab": {
          "base_uri": "https://localhost:8080/"
        },
        "id": "KZ5QnAzbaH_v",
        "outputId": "e6d57ab7-700e-4ffc-f755-3ef715b4922e"
      },
      "outputs": [
        {
          "data": {
            "text/plain": [
              "0"
            ]
          },
          "execution_count": 139,
          "metadata": {},
          "output_type": "execute_result"
        }
      ],
      "source": [
        "#Conocer el tamaño del vector\n",
        "ejemplo=[]\n",
        "\n",
        "len(ejemplo)"
      ]
    },
    {
      "cell_type": "code",
      "execution_count": 140,
      "metadata": {
        "id": "JsgmYIkuSVFj"
      },
      "outputs": [],
      "source": [
        "#Llenar una lista vacía\n",
        "ejemplo.append(\"Hola\")"
      ]
    },
    {
      "cell_type": "code",
      "execution_count": 141,
      "metadata": {
        "colab": {
          "base_uri": "https://localhost:8080/"
        },
        "id": "q6LTGURtY_RM",
        "outputId": "49b377b6-a0d0-4ecd-8dc7-620c2319f0cd"
      },
      "outputs": [
        {
          "data": {
            "text/plain": [
              "['banana', 'sandía', 4, 5, False]"
            ]
          },
          "execution_count": 141,
          "metadata": {},
          "output_type": "execute_result"
        }
      ],
      "source": [
        "#Una lista puede tener diferente tipo de datos!!\n",
        "ejemplo=[\"banana\",\"sandía\", 4, 5, False]\n",
        "ejemplo\n",
        "#Qué pasó con el elemento \"Hola\"?"
      ]
    },
    {
      "cell_type": "code",
      "execution_count": 142,
      "metadata": {
        "colab": {
          "base_uri": "https://localhost:8080/"
        },
        "id": "p_o0X4fKZw0k",
        "outputId": "845f0f99-44ac-49f9-df9d-b62a4bcb49de"
      },
      "outputs": [
        {
          "data": {
            "text/plain": [
              "['banana', 'sandía', 5, False]"
            ]
          },
          "execution_count": 142,
          "metadata": {},
          "output_type": "execute_result"
        }
      ],
      "source": [
        "#Eliminar un elemento de la lista\n",
        "ejemplo.remove(4)\n",
        "ejemplo"
      ]
    },
    {
      "cell_type": "code",
      "execution_count": 143,
      "metadata": {
        "colab": {
          "base_uri": "https://localhost:8080/",
          "height": 189
        },
        "id": "ODz7MJvbbh8e",
        "outputId": "f1f850da-cbfa-4c5e-d9fc-8ea1680afed0"
      },
      "outputs": [
        {
          "ename": "ValueError",
          "evalue": "list.remove(x): x not in list",
          "output_type": "error",
          "traceback": [
            "\u001b[1;31m---------------------------------------------------------------------------\u001b[0m",
            "\u001b[1;31mValueError\u001b[0m                                Traceback (most recent call last)",
            "\u001b[1;32mc:\\Users\\SayisNickol\\Downloads\\TALLER DE  LISTAS.ipynb Celda 22\u001b[0m line \u001b[0;36m2\n\u001b[0;32m      <a href='vscode-notebook-cell:/c%3A/Users/SayisNickol/Downloads/TALLER%20DE%20%20LISTAS.ipynb#X30sZmlsZQ%3D%3D?line=0'>1</a>\u001b[0m \u001b[39m#Podría explicar el error generado?\u001b[39;00m\n\u001b[1;32m----> <a href='vscode-notebook-cell:/c%3A/Users/SayisNickol/Downloads/TALLER%20DE%20%20LISTAS.ipynb#X30sZmlsZQ%3D%3D?line=1'>2</a>\u001b[0m ejemplo\u001b[39m.\u001b[39;49mremove(\u001b[39m4\u001b[39;49m)\n\u001b[0;32m      <a href='vscode-notebook-cell:/c%3A/Users/SayisNickol/Downloads/TALLER%20DE%20%20LISTAS.ipynb#X30sZmlsZQ%3D%3D?line=3'>4</a>\u001b[0m \u001b[39m# el error se debe a que el valor x o sea, 4 no esta en la lista debido a que ya fue removido por ende ya no \u001b[39;00m\n\u001b[0;32m      <a href='vscode-notebook-cell:/c%3A/Users/SayisNickol/Downloads/TALLER%20DE%20%20LISTAS.ipynb#X30sZmlsZQ%3D%3D?line=4'>5</a>\u001b[0m \u001b[39m# estaria en la lista actualiza de ejemplo. Entonces al intentar de nuevo eliminarlo x no daria error \u001b[39;00m\n",
            "\u001b[1;31mValueError\u001b[0m: list.remove(x): x not in list"
          ]
        }
      ],
      "source": [
        "#Podría explicar el error generado?\n",
        "ejemplo.remove(4)\n",
        "\n",
        "# el error se debe a que el valor x o sea, 4 no esta en la lista debido a que ya fue removido por ende ya no \n",
        "# estaria en la lista actualiza de ejemplo. Entonces al intentar de nuevo eliminarlo x no daria error "
      ]
    },
    {
      "cell_type": "code",
      "execution_count": 144,
      "metadata": {
        "colab": {
          "base_uri": "https://localhost:8080/"
        },
        "id": "lhRUkQOEcWHu",
        "outputId": "ad0e0b81-cdb8-49ab-b45e-24451b1213d9"
      },
      "outputs": [
        {
          "data": {
            "text/plain": [
              "['banana', 'sandía', False]"
            ]
          },
          "execution_count": 144,
          "metadata": {},
          "output_type": "execute_result"
        }
      ],
      "source": [
        "#Podría explicar el resultado de este método?\n",
        "del ejemplo[2]\n",
        "ejemplo\n",
        "\n",
        "# La palabra reservada del permite eliminar un elemento o varios elementos a la vez de una lista, e incluso la misma lista en este caso borramos el segundo \n",
        "# elemento correspondiente a el valor 5 por esto al imprimir la lista tenemos ['banana', 'sandía', False] que son los valore restantes de la lista"
      ]
    },
    {
      "cell_type": "markdown",
      "metadata": {
        "id": "hmS_3bTvgCph"
      },
      "source": [
        "### EJERCICIO PARA GANAR UNA CHEMS COIN 🤑☝\n",
        "\n",
        "![Texto alternativo](https://cdn.memegenerator.es/imagenes/memes/full/28/50/28507442.jpg)\n",
        "\n",
        "Realiza el ejercicio propuesto de forma correcta antes de que acabe el tiempo, y hazte acreedor@ de eliminar un quest obligatorio ✨**Sólo para el primero que realice el envío.** ✨"
      ]
    },
    {
      "cell_type": "code",
      "execution_count": null,
      "metadata": {
        "id": "p0SGwGpNgBaz"
      },
      "outputs": [],
      "source": [
        "# Revise la página https://www.researchgate.net/publication/273298847_Piedra_Papel_Tijera_y_sus_generalizaciones\n",
        "#Programe Piedra, papel, tijera, spock, lagarto, Papa y heavy usando arreglos."
      ]
    }
  ],
  "metadata": {
    "colab": {
      "provenance": []
    },
    "kernelspec": {
      "display_name": "Python 3",
      "name": "python3"
    },
    "language_info": {
      "codemirror_mode": {
        "name": "ipython",
        "version": 3
      },
      "file_extension": ".py",
      "mimetype": "text/x-python",
      "name": "python",
      "nbconvert_exporter": "python",
      "pygments_lexer": "ipython3",
      "version": "3.11.5"
    }
  },
  "nbformat": 4,
  "nbformat_minor": 0
}
