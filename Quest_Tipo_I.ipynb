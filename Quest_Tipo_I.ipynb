{
  "nbformat": 4,
  "nbformat_minor": 0,
  "metadata": {
    "colab": {
      "provenance": []
    },
    "kernelspec": {
      "name": "python3",
      "display_name": "Python 3"
    },
    "language_info": {
      "name": "python"
    }
  },
  "cells": [
    {
      "cell_type": "markdown",
      "source": [
        "# Documentación de errores encontrados al realizar programas en Python\n",
        "1. Usar mal la identacion al escribir códigos.\n",
        "2. Usar puntos en vez de comas al al escribir decimales como constantes.\n",
        "3. Definir una variable en mayúscula.\n",
        "4. Indicando el orden de las operaciones, es decir usar los paréntisis para indicar que se hace primero. Ejemplo\n"
      ],
      "metadata": {
        "id": "Dz97R1zizGn2"
      }
    },
    {
      "cell_type": "code",
      "source": [
        "c=float(input(\"Ingresar la temperatura en grados centigrados \"))\n",
        "f=float\n",
        "f=((9/5*c) +32)\n",
        "print( \"La temperatura en Fahrenheit es: \", f)\n",
        "k=float\n",
        "k=(273.15+c)\n",
        "print( \"La temperatura en Kelvin es: \", k)"
      ],
      "metadata": {
        "colab": {
          "base_uri": "https://localhost:8080/"
        },
        "id": "Q2n9XGEK1vCu",
        "outputId": "1a597bd1-e1ca-4972-b6e3-ab040d6ddaf2"
      },
      "execution_count": 3,
      "outputs": [
        {
          "output_type": "stream",
          "name": "stdout",
          "text": [
            "Ingresar la temperatura en grados centigrados 20\n",
            "La temperatura en Fahrenheit es:  68.0\n",
            "La temperatura en Kelvin es:  293.15\n"
          ]
        }
      ]
    },
    {
      "cell_type": "markdown",
      "source": [
        "5. Tener presente los dos puntos para que logre ejecutar el código.\n",
        "6. Usar solamente un igual(=) al realizar una comparación, pues se deben usar dos iguales(==).\n",
        "7. Tener en cuenta la conversión de datos, al definir una variabre como float o int.\n",
        "8. Recordar que los paréntisis sirven para llamar una función y los corchetes son listas que podemos manipular.\n",
        "9. Usar de manera correcta las comas al concatenar y unir las variables que luego queremos imprimir.\n",
        "10. Al hora de imprimir no usar las comillas, o poner las variables que queremos imprimir dentro de las comillas, porque las toma como texto."
      ],
      "metadata": {
        "id": "Jf31gp9r1xF1"
      }
    }
  ]
}