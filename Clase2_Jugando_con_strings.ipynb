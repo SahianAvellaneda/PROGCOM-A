{
  "nbformat": 4,
  "nbformat_minor": 0,
  "metadata": {
    "colab": {
      "provenance": [],
      "authorship_tag": "ABX9TyMZsmH/5OhvpC4aeppDTFMd",
      "include_colab_link": true
    },
    "kernelspec": {
      "name": "python3",
      "display_name": "Python 3"
    },
    "language_info": {
      "name": "python"
    }
  },
  "cells": [
    {
      "cell_type": "markdown",
      "metadata": {
        "id": "view-in-github",
        "colab_type": "text"
      },
      "source": [
        "<a href=\"https://colab.research.google.com/github/SahianAvellaneda/PROGCOM-A/blob/main/Clase2_Jugando_con_strings.ipynb\" target=\"_parent\"><img src=\"https://colab.research.google.com/assets/colab-badge.svg\" alt=\"Open In Colab\"/></a>"
      ]
    },
    {
      "cell_type": "markdown",
      "source": [
        "# Jugando con los string\n",
        "## Temario\n",
        "1. obteniendo elementos de los string\n",
        "2. Verificando pertenencia en string\n",
        "3. operaciones entre string\n",
        "4. Rompiendo string\n"
      ],
      "metadata": {
        "id": "KIT9ADrKVEow"
      }
    },
    {
      "cell_type": "markdown",
      "source": [
        "## 1. Obtenien elemtos de los string"
      ],
      "metadata": {
        "id": "nwZBafhyVpqe"
      }
    },
    {
      "cell_type": "code",
      "execution_count": null,
      "metadata": {
        "id": "f89rAD8VTbot"
      },
      "outputs": [],
      "source": [
        "#[] listas podemos manipularlas\n",
        "nombre=\"Sahian\"\n"
      ]
    },
    {
      "cell_type": "code",
      "source": [
        "#obtener un sub string de un caracter\n",
        "nombre[0]"
      ],
      "metadata": {
        "colab": {
          "base_uri": "https://localhost:8080/",
          "height": 36
        },
        "id": "AiXzEzSKXeaT",
        "outputId": "328562bb-5e72-4bee-b323-fc3d365b6e01"
      },
      "execution_count": null,
      "outputs": [
        {
          "output_type": "execute_result",
          "data": {
            "text/plain": [
              "'S'"
            ],
            "application/vnd.google.colaboratory.intrinsic+json": {
              "type": "string"
            }
          },
          "metadata": {},
          "execution_count": 11
        }
      ]
    },
    {
      "cell_type": "code",
      "source": [
        "## substring valor inicial a final\n",
        "nombre[0:4]"
      ],
      "metadata": {
        "colab": {
          "base_uri": "https://localhost:8080/",
          "height": 36
        },
        "id": "Q5yhiLa1YLiY",
        "outputId": "660fd820-75e9-4b8a-809d-0c2bcd573f63"
      },
      "execution_count": null,
      "outputs": [
        {
          "output_type": "execute_result",
          "data": {
            "text/plain": [
              "'Sahi'"
            ],
            "application/vnd.google.colaboratory.intrinsic+json": {
              "type": "string"
            }
          },
          "metadata": {},
          "execution_count": 12
        }
      ]
    },
    {
      "cell_type": "code",
      "source": [
        "nombre[:4]"
      ],
      "metadata": {
        "colab": {
          "base_uri": "https://localhost:8080/",
          "height": 36
        },
        "id": "jQb50UA9YYfw",
        "outputId": "66cb43cc-3d97-4081-ab39-93f56714802d"
      },
      "execution_count": null,
      "outputs": [
        {
          "output_type": "execute_result",
          "data": {
            "text/plain": [
              "'Sahi'"
            ],
            "application/vnd.google.colaboratory.intrinsic+json": {
              "type": "string"
            }
          },
          "metadata": {},
          "execution_count": 13
        }
      ]
    },
    {
      "cell_type": "code",
      "source": [
        "# completo\n",
        "nombre[::]"
      ],
      "metadata": {
        "colab": {
          "base_uri": "https://localhost:8080/",
          "height": 36
        },
        "id": "O39QRumsYeNA",
        "outputId": "e833ccae-ff9d-4330-a9e4-4b36ab333748"
      },
      "execution_count": null,
      "outputs": [
        {
          "output_type": "execute_result",
          "data": {
            "text/plain": [
              "'Sahian'"
            ],
            "application/vnd.google.colaboratory.intrinsic+json": {
              "type": "string"
            }
          },
          "metadata": {},
          "execution_count": 17
        }
      ]
    },
    {
      "cell_type": "code",
      "source": [
        "#solo el string final\n",
        "nombre[-1:]"
      ],
      "metadata": {
        "colab": {
          "base_uri": "https://localhost:8080/",
          "height": 36
        },
        "id": "8CehwBnGY5Vf",
        "outputId": "805d048b-8f9c-402e-9b6c-32e72fe44b25"
      },
      "execution_count": null,
      "outputs": [
        {
          "output_type": "execute_result",
          "data": {
            "text/plain": [
              "'n'"
            ],
            "application/vnd.google.colaboratory.intrinsic+json": {
              "type": "string"
            }
          },
          "metadata": {},
          "execution_count": 16
        }
      ]
    },
    {
      "cell_type": "code",
      "source": [
        "#todo el string menos el final\n",
        "nombre[:-1]"
      ],
      "metadata": {
        "colab": {
          "base_uri": "https://localhost:8080/",
          "height": 36
        },
        "id": "gUfpuSBFYywU",
        "outputId": "0f35e244-118b-4337-fade-61d90cf82d99"
      },
      "execution_count": null,
      "outputs": [
        {
          "output_type": "execute_result",
          "data": {
            "text/plain": [
              "'Sahia'"
            ],
            "application/vnd.google.colaboratory.intrinsic+json": {
              "type": "string"
            }
          },
          "metadata": {},
          "execution_count": 15
        }
      ]
    },
    {
      "cell_type": "markdown",
      "source": [
        "Ejemplo: Crear el programa que solicite el nombre y el código de n estudiantes. Dependiendo del código,\n",
        "clasifique la carrera del estudiante y que luego lo imprima, junto con el nombre de la institución\n",
        "educativa perteneciente."
      ],
      "metadata": {
        "id": "EjM5lrqYUgS8"
      }
    },
    {
      "cell_type": "code",
      "source": [
        "codigo=input(\"Ingrese su Nombre:\")\n",
        "codigo=input(\"Ingrese su codigo por favor\")\n",
        "if codigo[0:3]==\"u00\" or codigo[0:3]==\"U00\":\n",
        "  universidad=\"UNIVERSIDAD AUTONOMA DE BUCARAMANGA - UNAB\"\n",
        "  if codigo[3:5]==\"17\":\n",
        "   carrera=\"Ingenieria mecatronica\"\n",
        "  if codigo[3:5]==\"16\":\n",
        "   carrera=\"Ingenieria financiera\"\n",
        "  if codigo[3:5]==\"14\":\n",
        "   carrera=\"Ingenieria electrónica\"\n",
        "elif codigo[0:4]==\"2021\" or codigo[0:4]==\"2022\"or codigo[0:4]==\"2023\":\n",
        " universidad=\"UNIVERSIDAD INDUSTRIAL DE SANTANDER - UIS\"\n",
        " if codigo[4:6]==\"17\":\n",
        "   carrera=\"Ingenieria mecatrónica\"\n",
        " if codigo[4:6]==\"16\":\n",
        "   carrera=\"Ingenieria financiera\"\n",
        " if codigo[4:6]==\"14\":\n",
        "   carrera=\"Ingenieria electrónica\"\n",
        "elif codigo[0:2]==\"00\":\n",
        " universidad=\"UNIVERSIDAD PONTIFICIA BOLIVARIANA - UPB\"\n",
        " if codigo[2:4]==\"17\":\n",
        "   carrera=\"Ingenieria mecatrónica\"\n",
        " if codigo[2:4]==\"16\":\n",
        "   carrera=\"Ingenieria financiera\"\n",
        " if codigo[2:4]==\"14\":\n",
        "   carrera=\"Ingenieria electrónica\"\n",
        "else:\n",
        " universidad=\"No esta registrada en nuestra base de datos\"\n",
        "print(universidad)\n",
        "print(carrera)\n",
        "\n"
      ],
      "metadata": {
        "colab": {
          "base_uri": "https://localhost:8080/"
        },
        "id": "D6n1NOXMZy9_",
        "outputId": "35158630-4616-4ca1-d218-d516b4040c7c"
      },
      "execution_count": null,
      "outputs": [
        {
          "output_type": "stream",
          "name": "stdout",
          "text": [
            "Ingrese su Nombre: s\n",
            "Ingrese su codigo por favor0016\n",
            "UNIVERSIDAD PONTIFICIA BOLIVARIANA - UPB\n",
            "Ingenieria financiera\n"
          ]
        }
      ]
    },
    {
      "cell_type": "markdown",
      "source": [
        "##2. verificando pertenencia en string\n",
        "Se usa para verificar si un substring pertenece al string\n"
      ],
      "metadata": {
        "id": "yXSwM3XmmQzd"
      }
    },
    {
      "cell_type": "code",
      "source": [
        "if \"a\" in nombre:\n",
        "  print(\"pertenece al string\")"
      ],
      "metadata": {
        "colab": {
          "base_uri": "https://localhost:8080/"
        },
        "id": "shU6HBZ7mo7M",
        "outputId": "e7efd966-8d77-4fc8-edb5-fd375775285c"
      },
      "execution_count": null,
      "outputs": [
        {
          "output_type": "stream",
          "name": "stdout",
          "text": [
            "pertenece al string\n"
          ]
        }
      ]
    },
    {
      "cell_type": "code",
      "source": [
        "cod=\"U00123\"\n",
        "if \"u00\" in cod or \"U00\" in cod: print(\"Universidad Autónoma de Bucaramanga\")"
      ],
      "metadata": {
        "colab": {
          "base_uri": "https://localhost:8080/"
        },
        "id": "DOkXXibYm6G8",
        "outputId": "5ab6d80b-5fdc-4cbe-dd02-2038a95578cb"
      },
      "execution_count": null,
      "outputs": [
        {
          "output_type": "stream",
          "name": "stdout",
          "text": [
            "Universidad Autónoma de Bucaramanga\n"
          ]
        }
      ]
    },
    {
      "cell_type": "code",
      "source": [
        "codigo=input(\"Ingresar vocal: \")\n",
        "cod=\"aeiou\"\n",
        "x= \"AEIOU\"\n",
        "if codigo in cod: print(\"minúscula\")\n",
        "elif codigo in x: print(\"mayúscula\")"
      ],
      "metadata": {
        "colab": {
          "base_uri": "https://localhost:8080/"
        },
        "id": "osbjCoSOn8g9",
        "outputId": "ab8f98ce-668e-401b-aad3-6300937f5682"
      },
      "execution_count": null,
      "outputs": [
        {
          "output_type": "stream",
          "name": "stdout",
          "text": [
            "Ingresar vocal: A\n",
            "mayúscula\n"
          ]
        }
      ]
    }
  ]
}